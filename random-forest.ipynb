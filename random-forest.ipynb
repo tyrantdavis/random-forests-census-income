{
 "cells": [
  {
   "cell_type": "markdown",
   "id": "81773338-9172-4505-bba7-ca699a385dd8",
   "metadata": {},
   "source": [
    "## Import Packages"
   ]
  },
  {
   "cell_type": "code",
   "execution_count": 14,
   "id": "8a108e67-d223-4857-9b82-a1e11f988b5a",
   "metadata": {},
   "outputs": [
    {
     "name": "stdout",
     "output_type": "stream",
     "text": [
      "Libraries used in this project:\n",
      "- NumPy 1.22.3\n",
      "- pandas 1.4.1\n",
      "- scikit-learn 1.2.2\n",
      "- Matplotlib 3.8.4\n",
      "- Seaborn 0.13.0\n",
      "- Python 3.9.20 (main, Oct  3 2024, 02:27:54) \n",
      "[Clang 14.0.6 ]\n",
      "\n",
      "- Matplotlib 3.8.4\n",
      "\n",
      "\n",
      "Summary of software packages complete.\n",
      "\n"
     ]
    }
   ],
   "source": [
    "import warnings  # Suppress warnings\n",
    "\n",
    "import matplotlib\n",
    "import matplotlib.pyplot as plt\n",
    "import numpy as np\n",
    "import pandas as pd\n",
    "import requests  # Send HTTP requests\n",
    "import seaborn as sns\n",
    "import sklearn\n",
    "from sklearn.ensemble import RandomForestClassifier\n",
    "\n",
    "# Models from scikit learn module:\n",
    "from sklearn.model_selection import train_test_split\n",
    "from sklearn.tree import DecisionTreeClassifier\n",
    "\n",
    "warnings.filterwarnings(\"ignore\")\n",
    "\n",
    "import os  # Interact with the operating system.\n",
    "import sys  # Read system parameters.\n",
    "from io import StringIO  # Read and write strings as files\n",
    "from time import time  # Calculate training time.\n",
    "from urllib.parse import urlparse  # Parse URL and extract path component\n",
    "\n",
    "from sklearn.ensemble import (\n",
    "    BaggingClassifier,\n",
    "    RandomForestClassifier,\n",
    "    RandomForestRegressor,\n",
    ")\n",
    "from sklearn.metrics import (\n",
    "    accuracy_score,\n",
    "    classification_report,\n",
    "    confusion_matrix,\n",
    "    f1_score,\n",
    "    mean_absolute_error,\n",
    "    precision_score,\n",
    "    recall_score,\n",
    "    roc_auc_score,\n",
    "    roc_curve,\n",
    ")\n",
    "from sklearn.model_selection import train_test_split\n",
    "\n",
    "# Summarize software libraries used.\n",
    "print(\"Libraries used in this project:\")\n",
    "print(\"- NumPy {}\".format(np.__version__))\n",
    "print(\"- pandas {}\".format(pd.__version__))\n",
    "print(\"- scikit-learn {}\".format(sklearn.__version__))\n",
    "print(\"- Matplotlib {}\".format(matplotlib.__version__))\n",
    "print(\"- Seaborn {}\".format(sns.__version__))\n",
    "print(\"- Python {}\\n\".format(sys.version))\n",
    "print(\"- Matplotlib {}\\n\".format(matplotlib.__version__))\n",
    "print(\"\\nSummary of software packages complete.\\n\")"
   ]
  },
  {
   "cell_type": "markdown",
   "id": "5fd7c653-0d0d-49e1-985d-2f235cf3b39b",
   "metadata": {},
   "source": [
    "# Load the Dataset"
   ]
  },
  {
   "cell_type": "code",
   "execution_count": 15,
   "id": "79fbd483-be6e-4a87-8dd9-ecc67f064614",
   "metadata": {},
   "outputs": [
    {
     "name": "stdout",
     "output_type": "stream",
     "text": [
      "Loaded 32561 census records from census-adult.data.\n"
     ]
    }
   ],
   "source": [
    "# Capture URL\n",
    "url = \"https://raw.githubusercontent.com/tyrantdavis/datasets/refs/heads/main/census-adult.data\"\n",
    "request = requests.get(url).text\n",
    "\n",
    "# LOAD DATA\n",
    "# Save as data frame and copy\n",
    "census = pd.read_csv(StringIO(request))\n",
    "df = census.copy()\n",
    "\n",
    "# Parse URL\n",
    "parsed_url = urlparse(url)\n",
    "path = parsed_url.path\n",
    "filename = os.path.basename(path)\n",
    "\n",
    "\n",
    "print(f\"Loaded {len(df)} census records from {filename}.\")"
   ]
  },
  {
   "cell_type": "code",
   "execution_count": 16,
   "id": "bd494e88-de0b-49a1-9107-0948671d8985",
   "metadata": {},
   "outputs": [
    {
     "name": "stdout",
     "output_type": "stream",
     "text": [
      "<class 'pandas.core.frame.DataFrame'>\n",
      "RangeIndex: 32561 entries, 0 to 32560\n",
      "Data columns (total 15 columns):\n",
      " #   Column           Non-Null Count  Dtype \n",
      "---  ------           --------------  ----- \n",
      " 0   age              32561 non-null  int64 \n",
      " 1    workclass       32561 non-null  object\n",
      " 2    fnlwgt          32561 non-null  int64 \n",
      " 3    education       32561 non-null  object\n",
      " 4    education-num   32561 non-null  int64 \n",
      " 5    marital-status  32561 non-null  object\n",
      " 6    occupation      32561 non-null  object\n",
      " 7    relationship    32561 non-null  object\n",
      " 8    race            32561 non-null  object\n",
      " 9    sex             32561 non-null  object\n",
      " 10   capital-gain    32561 non-null  int64 \n",
      " 11   capital-loss    32561 non-null  int64 \n",
      " 12   hours-per-week  32561 non-null  int64 \n",
      " 13   native-country  32561 non-null  object\n",
      " 14   income          32561 non-null  object\n",
      "dtypes: int64(6), object(9)\n",
      "memory usage: 3.7+ MB\n"
     ]
    }
   ],
   "source": [
    "df.info()"
   ]
  },
  {
   "cell_type": "markdown",
   "id": "0cfb0c7d-b636-4b65-9a13-09f290f6c476",
   "metadata": {},
   "source": [
    "**Features** \n",
    "\n",
    "- age: continuous\n",
    "- workclass: Private, Self-emp-not-inc, Self-emp-inc, Federal-gov, Local-gov, State-gov, Without-pay, Never-worked.\n",
    "- education: Bachelors, Some-college, 11th, HS-grad, Prof-school, Assoc-acdm, Assoc-voc, 9th, 7th-8th, 12th, Masters, 1st-4th, 10th, Doctorate, 5th-6th, Preschool\n",
    "- race: White, Asian-Pac-Islander, Amer-Indian-Eskimo, Other, Black\n",
    "- sex: Female, Male\n",
    "- capital-gain: continuous\n",
    "- capital-loss: continuous\n",
    "- hours-per-week: continuous\n",
    "- native country: discrete\n",
    "- income: discrete, >50K, <=50K"
   ]
  },
  {
   "cell_type": "markdown",
   "id": "34481d64-444e-455a-ae8c-c202929e0b12",
   "metadata": {},
   "source": [
    "**Spotlights** \n",
    "\n",
    "- The dataset comprises 32561 rows and 15 columns in total.\n",
    "- Among these columns, 6 are designated for integer values and 9 for objects.\n",
    "- No missing records are identified.\n",
    "- The name for **concave points_worst** will be altered to facilitate access to the feature through dot notation.\n",
    "- The diagnosis feature classes will be encoded and represented as 0 and 1 opposed to **B**(Benign) and **M**(Malignant)"
   ]
  },
  {
   "cell_type": "markdown",
   "id": "9ba68557-d874-4905-8b11-acddb0be3933",
   "metadata": {},
   "source": [
    "# Examine Distribution of Income\n",
    "\n",
    "Before we proceed, it's important to do a bit of preparation. The column names currently have leading spaces, which can make it difficult to access the values. This step will address that issue, allowing for easier access to the data."
   ]
  },
  {
   "cell_type": "code",
   "execution_count": 17,
   "id": "7ae4416b-435c-4ced-aa1b-8ddab0dc051c",
   "metadata": {},
   "outputs": [
    {
     "data": {
      "text/plain": [
       "Index(['age', ' workclass', ' fnlwgt', ' education', ' education-num',\n",
       "       ' marital-status', ' occupation', ' relationship', ' race', ' sex',\n",
       "       ' capital-gain', ' capital-loss', ' hours-per-week', ' native-country',\n",
       "       ' income'],\n",
       "      dtype='object')"
      ]
     },
     "execution_count": 17,
     "metadata": {},
     "output_type": "execute_result"
    }
   ],
   "source": [
    "df.columns"
   ]
  },
  {
   "cell_type": "markdown",
   "id": "54e48913-6326-4eda-b32a-3df6cd434372",
   "metadata": {},
   "source": [
    "### Remove white space from column names"
   ]
  },
  {
   "cell_type": "code",
   "execution_count": 18,
   "id": "2fe339c3-3667-47c9-a949-9a745adbc9fa",
   "metadata": {},
   "outputs": [
    {
     "name": "stdout",
     "output_type": "stream",
     "text": [
      "White space removed from the column names.\n",
      "\n",
      "\n"
     ]
    },
    {
     "data": {
      "text/plain": [
       "Index(['age', 'workclass', 'fnlwgt', 'education', 'education-num',\n",
       "       'marital-status', 'occupation', 'relationship', 'race', 'sex',\n",
       "       'capital-gain', 'capital-loss', 'hours-per-week', 'native-country',\n",
       "       'income'],\n",
       "      dtype='object')"
      ]
     },
     "execution_count": 18,
     "metadata": {},
     "output_type": "execute_result"
    }
   ],
   "source": [
    "df.columns = df.columns.str.replace(\" \", \"\")\n",
    "\n",
    "# Clean columns by stripping extra whitespace for columns of type \"object\"\n",
    "for c in df.select_dtypes(include=[\"object\"]).columns:\n",
    "    df[c] = df[c].str.strip()\n",
    "\n",
    "print(\"White space removed from the column names.\\n\\n\")\n",
    "df.columns"
   ]
  },
  {
   "cell_type": "code",
   "execution_count": 19,
   "id": "f298437e-1c91-4d3c-bb9b-fee5745c215f",
   "metadata": {},
   "outputs": [
    {
     "name": "stdout",
     "output_type": "stream",
     "text": [
      "<=50K    0.75919\n",
      ">50K     0.24081\n",
      "Name: income, dtype: float64\n"
     ]
    }
   ],
   "source": [
    "print(df[\"income\"].value_counts(normalize=True))"
   ]
  },
  {
   "cell_type": "markdown",
   "id": "4c0f149d-620e-4ed7-8d7d-878e88398ede",
   "metadata": {},
   "source": [
    "**Spotlights** \n",
    "\n",
    "- Roughly 76% make 50k or less while roughly 24% make more than 50k."
   ]
  },
  {
   "cell_type": "markdown",
   "id": "db245565-c6ce-4e16-ad73-d1e08b411a94",
   "metadata": {},
   "source": [
    "# Create a features dataframe X\n",
    "\n",
    "To achieve this, the focus will be solely on the attributes specified in the features list. The goal is to transform any categorical features into dummy variables by utilizing pd.get_dummies(). The parameter drop_first=True is set  to remove any unnecessary duplicate features."
   ]
  },
  {
   "cell_type": "code",
   "execution_count": 20,
   "id": "c3d83441-e1ab-44e9-ba5d-7fddf9789adb",
   "metadata": {},
   "outputs": [],
   "source": [
    "features = [\"age\", \"capital-gain\", \"capital-loss\", \"hours-per-week\", \"sex\", \"race\"]\n",
    "\n",
    "\"\"\"Create feature dataframe X with feature columns and dummy variables for categorical features\"\"\"\n",
    "X = pd.get_dummies(df[features], drop_first=True)"
   ]
  },
  {
   "cell_type": "markdown",
   "id": "430a46ae-ed38-47a9-87e0-2c1cb185969f",
   "metadata": {},
   "source": [
    "**Examine X Samples**"
   ]
  },
  {
   "cell_type": "code",
   "execution_count": 21,
   "id": "fbc5ef97-2051-4283-828d-5975059605be",
   "metadata": {},
   "outputs": [
    {
     "data": {
      "text/html": [
       "<div>\n",
       "<style scoped>\n",
       "    .dataframe tbody tr th:only-of-type {\n",
       "        vertical-align: middle;\n",
       "    }\n",
       "\n",
       "    .dataframe tbody tr th {\n",
       "        vertical-align: top;\n",
       "    }\n",
       "\n",
       "    .dataframe thead th {\n",
       "        text-align: right;\n",
       "    }\n",
       "</style>\n",
       "<table border=\"1\" class=\"dataframe\">\n",
       "  <thead>\n",
       "    <tr style=\"text-align: right;\">\n",
       "      <th></th>\n",
       "      <th>age</th>\n",
       "      <th>capital-gain</th>\n",
       "      <th>capital-loss</th>\n",
       "      <th>hours-per-week</th>\n",
       "      <th>sex_Male</th>\n",
       "      <th>race_Asian-Pac-Islander</th>\n",
       "      <th>race_Black</th>\n",
       "      <th>race_Other</th>\n",
       "      <th>race_White</th>\n",
       "    </tr>\n",
       "  </thead>\n",
       "  <tbody>\n",
       "    <tr>\n",
       "      <th>0</th>\n",
       "      <td>39</td>\n",
       "      <td>2174</td>\n",
       "      <td>0</td>\n",
       "      <td>40</td>\n",
       "      <td>1</td>\n",
       "      <td>0</td>\n",
       "      <td>0</td>\n",
       "      <td>0</td>\n",
       "      <td>1</td>\n",
       "    </tr>\n",
       "    <tr>\n",
       "      <th>1</th>\n",
       "      <td>50</td>\n",
       "      <td>0</td>\n",
       "      <td>0</td>\n",
       "      <td>13</td>\n",
       "      <td>1</td>\n",
       "      <td>0</td>\n",
       "      <td>0</td>\n",
       "      <td>0</td>\n",
       "      <td>1</td>\n",
       "    </tr>\n",
       "    <tr>\n",
       "      <th>2</th>\n",
       "      <td>38</td>\n",
       "      <td>0</td>\n",
       "      <td>0</td>\n",
       "      <td>40</td>\n",
       "      <td>1</td>\n",
       "      <td>0</td>\n",
       "      <td>0</td>\n",
       "      <td>0</td>\n",
       "      <td>1</td>\n",
       "    </tr>\n",
       "    <tr>\n",
       "      <th>3</th>\n",
       "      <td>53</td>\n",
       "      <td>0</td>\n",
       "      <td>0</td>\n",
       "      <td>40</td>\n",
       "      <td>1</td>\n",
       "      <td>0</td>\n",
       "      <td>1</td>\n",
       "      <td>0</td>\n",
       "      <td>0</td>\n",
       "    </tr>\n",
       "    <tr>\n",
       "      <th>4</th>\n",
       "      <td>28</td>\n",
       "      <td>0</td>\n",
       "      <td>0</td>\n",
       "      <td>40</td>\n",
       "      <td>0</td>\n",
       "      <td>0</td>\n",
       "      <td>1</td>\n",
       "      <td>0</td>\n",
       "      <td>0</td>\n",
       "    </tr>\n",
       "  </tbody>\n",
       "</table>\n",
       "</div>"
      ],
      "text/plain": [
       "   age  capital-gain  capital-loss  hours-per-week  sex_Male  \\\n",
       "0   39          2174             0              40         1   \n",
       "1   50             0             0              13         1   \n",
       "2   38             0             0              40         1   \n",
       "3   53             0             0              40         1   \n",
       "4   28             0             0              40         0   \n",
       "\n",
       "   race_Asian-Pac-Islander  race_Black  race_Other  race_White  \n",
       "0                        0           0           0           1  \n",
       "1                        0           0           0           1  \n",
       "2                        0           0           0           1  \n",
       "3                        0           1           0           0  \n",
       "4                        0           1           0           0  "
      ]
     },
     "execution_count": 21,
     "metadata": {},
     "output_type": "execute_result"
    }
   ],
   "source": [
    "X.head()"
   ]
  },
  {
   "cell_type": "markdown",
   "id": "0bc26773-7f88-4947-baa9-41c400edd724",
   "metadata": {},
   "source": [
    "# Create the Output Variable 'y'\n",
    "\n",
    "This is a simple binary classification. It should be assigned a value of 0 if the income is below 50k, and a value of 1 if the income exceeds 50k."
   ]
  },
  {
   "cell_type": "code",
   "execution_count": 22,
   "id": "958d3d63-052b-4fb6-a611-fc995959e6b7",
   "metadata": {},
   "outputs": [
    {
     "data": {
      "text/plain": [
       "array([0, 0, 0, ..., 0, 0, 1])"
      ]
     },
     "execution_count": 22,
     "metadata": {},
     "output_type": "execute_result"
    }
   ],
   "source": [
    "\"\"\"Create y\"\"\"\n",
    "\n",
    "y = np.where(df.income == \"<=50K\", 0, 1)\n",
    "\n",
    "\"\"\"Examine y\"\"\"\n",
    "y"
   ]
  },
  {
   "cell_type": "markdown",
   "id": "887acdca-308a-4ca1-a494-d7811309982a",
   "metadata": {},
   "source": [
    "# Partition the Dataset\n",
    "\n",
    "This step generates the Training and Test sets with a Test size of 20%."
   ]
  },
  {
   "cell_type": "code",
   "execution_count": 23,
   "id": "cce5cd75-360b-4d2f-8f76-e9f86965caaa",
   "metadata": {},
   "outputs": [],
   "source": [
    "x_train, x_test, y_train, y_test = train_test_split(X, y, random_state=1, test_size=0.2)"
   ]
  },
  {
   "cell_type": "markdown",
   "id": "620b3565-ced5-4f9a-b741-616923fff2e3",
   "metadata": {},
   "source": [
    "# Instantiate Random Forest Classifier\n",
    "\n",
    "To begin, we will create an instance of the RandomForestClassifier() using its default settings. Next, we will train the model with the training data and then evaluate its accuracy on the test data, which will serve as a baseline for comparing the performance of other models."
   ]
  },
  {
   "cell_type": "code",
   "execution_count": 24,
   "id": "e30e5f38-3ab7-457c-a6a6-5369ca47ca7a",
   "metadata": {},
   "outputs": [
    {
     "name": "stdout",
     "output_type": "stream",
     "text": [
      "Accuracy score for default random forest: 82.128%\n"
     ]
    }
   ],
   "source": [
    "\"\"\"Instantiate random forest classifier, fit and score with default parameters\"\"\"\n",
    "\n",
    "rf = RandomForestClassifier()\n",
    "rf.fit(x_train, y_train)\n",
    "rf.score(x_test, y_test)\n",
    "print(\n",
    "    f\"Accuracy score for default random forest: {round(rf.score(x_test, y_test)*100,3)}%\"\n",
    ")"
   ]
  },
  {
   "cell_type": "markdown",
   "id": "95d906eb-784f-4563-ab23-4cba6c1df911",
   "metadata": {},
   "source": [
    "**Spotlights** \n",
    "\n",
    "The classifier achieved a score of roughly 82%. "
   ]
  },
  {
   "cell_type": "markdown",
   "id": "30a79ec2-bed6-49ba-b43c-de6d281e00fe",
   "metadata": {},
   "source": [
    "# Build and Tune Random Forest Classifiers by Depth\n",
    "\n",
    "To begin, create an instance of the RandomForestClassifier() using its default settings. Next, train the model with the training data and then evaluate its accuracy on the test data, which will serve as a baseline for comparing the performance of other models."
   ]
  },
  {
   "cell_type": "code",
   "execution_count": 25,
   "id": "d406e249-89a2-4d6e-a5fc-36c70afb187f",
   "metadata": {},
   "outputs": [],
   "source": [
    "\"\"\"7 -- Tune the hyperparameter max_depth over a range from 1-25, save scores for test and train set\"\"\"\n",
    "\n",
    "np.random.seed(0)\n",
    "accuracy_train = []\n",
    "accuracy_test = []\n",
    "depths = range(1, 26)\n",
    "for i in depths:\n",
    "    rf = RandomForestClassifier(max_depth=i)\n",
    "    rf.fit(x_train, y_train)\n",
    "    y_pred = rf.predict(x_test)\n",
    "    accuracy_test.append(accuracy_score(y_test, rf.predict(x_test)))\n",
    "    accuracy_train.append(accuracy_score(y_train, rf.predict(x_train)))"
   ]
  },
  {
   "cell_type": "markdown",
   "id": "214d6386-0dea-4718-9178-05dd8ccc838e",
   "metadata": {},
   "source": [
    "# Find the Largest Accuracy and its Depth"
   ]
  },
  {
   "cell_type": "code",
   "execution_count": 26,
   "id": "fbf5f2db-7f13-4add-bd32-da89fd555c95",
   "metadata": {},
   "outputs": [
    {
     "name": "stdout",
     "output_type": "stream",
     "text": [
      "The highest accuracy on the test is achieved when depth: 12\n",
      "The highest accuracy on the test set is: 83.464%\n"
     ]
    }
   ],
   "source": [
    "\"\"\"Find the best accuracy and at what depth that occurs\"\"\"\n",
    "\n",
    "best_acc = np.max(accuracy_test)\n",
    "best_depth = depths[np.argmax(accuracy_test)]\n",
    "print(f\"The highest accuracy on the test is achieved when depth: {best_depth}\")\n",
    "print(f\"The highest accuracy on the test set is: {round(best_acc*100,3)}%\")"
   ]
  },
  {
   "cell_type": "markdown",
   "id": "77e47552-adf8-4938-8229-2dbf222cc159",
   "metadata": {},
   "source": [
    "# Plot Training and Test Accuracy -vs- Max Depth\n",
    "\n",
    "Create a graph that displays the performance of both the test and training sets across various depth values."
   ]
  },
  {
   "cell_type": "code",
   "execution_count": 27,
   "id": "c660356f-76b1-4853-8a66-c7565e9900e3",
   "metadata": {},
   "outputs": [
    {
     "data": {
      "image/png": "[encoded data removed]",
      "text/plain": [
       "<Figure size 640x480 with 1 Axes>"
      ]
     },
     "metadata": {},
     "output_type": "display_data"
    }
   ],
   "source": [
    "plt.plot(depths, accuracy_test, \"bo--\", depths, accuracy_train, \"r*:\")\n",
    "plt.legend([\"test accuracy\", \"train accuracy\"])\n",
    "plt.xlabel(\"max depth\")\n",
    "plt.ylabel(\"accuracy\")\n",
    "plt.show()"
   ]
  },
  {
   "cell_type": "markdown",
   "id": "eb75b3ef-a985-4596-8581-7ddfe56df59b",
   "metadata": {},
   "source": [
    "**Spotlights** \n",
    "\n",
    "As the max_depth of the model rises, the training accuracy tends to improve, but conversely, the test accuracy starts to decline with the same increase in max_depth. The two graphs converge at a maximum depth of approximately 11, achieving an accuracy of 83%."
   ]
  },
  {
   "cell_type": "markdown",
   "id": "5c5f7338-d643-463b-b14a-715eedf08ba9",
   "metadata": {},
   "source": [
    "# Modify the Random Forest Model\n",
    "\n",
    "The random forest model will be updated utilizing the max_depth value mentioned earlier and store the feature importances in a dataframe. After that, the results will be arranged  in order and the top five features will be displayed."
   ]
  },
  {
   "cell_type": "code",
   "execution_count": 28,
   "id": "2a1304b8-c8c1-4f63-9a2c-b750385be213",
   "metadata": {},
   "outputs": [
    {
     "name": "stdout",
     "output_type": "stream",
     "text": [
      "Top 5 random forest features:\n",
      "          feature  importance\n",
      "1    capital-gain    0.370119\n",
      "0             age    0.248969\n",
      "3  hours-per-week    0.140480\n",
      "2    capital-loss    0.140439\n",
      "4        sex_Male    0.078258\n"
     ]
    }
   ],
   "source": [
    "best_rf = RandomForestClassifier(max_depth=best_depth)\n",
    "best_rf.fit(x_train, y_train)\n",
    "feature_imp_df = pd.DataFrame(\n",
    "    zip(x_train.columns, best_rf.feature_importances_),\n",
    "    columns=[\"feature\", \"importance\"],\n",
    ")\n",
    "print(\"Top 5 random forest features:\")\n",
    "print(feature_imp_df.sort_values(\"importance\", ascending=False).iloc[0:5])"
   ]
  }
 ],
 "metadata": {
  "kernelspec": {
   "display_name": "Python 3 (ipykernel)",
   "language": "python",
   "name": "python3"
  },
  "language_info": {
   "codemirror_mode": {
    "name": "ipython",
    "version": 3
   },
   "file_extension": ".py",
   "mimetype": "text/x-python",
   "name": "python",
   "nbconvert_exporter": "python",
   "pygments_lexer": "ipython3",
   "version": "3.9.20"
  }
 },
 "nbformat": 4,
 "nbformat_minor": 5
}
